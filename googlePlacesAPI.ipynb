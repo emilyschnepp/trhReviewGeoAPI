{
  "nbformat": 4,
  "nbformat_minor": 0,
  "metadata": {
    "colab": {
      "provenance": []
    },
    "kernelspec": {
      "name": "python3",
      "display_name": "Python 3"
    },
    "language_info": {
      "name": "python"
    }
  },
  "cells": [
    {
      "cell_type": "code",
      "execution_count": 1,
      "metadata": {
        "id": "KslBoFWmAZMU"
      },
      "outputs": [],
      "source": [
        "import requests\n",
        "import csv\n",
        "import time"
      ]
    },
    {
      "cell_type": "code",
      "source": [
        "#defining api credentials and URL, and listing us states.\n",
        "apiKey = \"apiKey goes here\"\n",
        "baseURL = \"https://maps.googleapis.com/maps/api/place/textsearch/json\"\n",
        "states = [\"Alabama\", \"Alaska\", \"Arizona\", \"Arkansas\", \"California\", \"Colorado\", \"Connecticut\", \"Delaware\", \"Florida\", \"Georgia\", \"Hawaii\", \"Idaho\", \"Illinois\", \"Indiana\", \"Iowa\", \"Kansas\", \"Kentucky\", \"Louisiana\",\n",
        "          \"Maine\", \"Maryland\", \"Massachusetts\", \"Michigan\", \"Minnesota\", \"Mississippi\", \"Missouri\", \"Montana\", \"Nebraska\", \"Nevada\", \"New Hampshire\", \"New Jersey\", \"New Mexico\", \"New York\", \"North Carolina\", \"North Dakota\",\n",
        "          \"Ohio\", \"Oklahoma\", \"Oregon\", \"Pennsylvania\", \"Rhode Island\", \"South Carolina\", \"South Dakota\", \"Tennessee\", \"Texas\", \"Utah\", \"Vermont\", \"Virginia\", \"Washington\", \"West Virginia\", \"Wisconsin\", \"Wyoming\"]\n",
        "#setting queryLimit and apiCallCount to avoid exceeding usage limits.\n",
        "queryLimit = 500\n",
        "pause = 3\n",
        "apiCallCount = 0\n",
        "#defining a function to get restaurant locations.\n",
        "def getLocations(state):\n",
        "    global apiCallCount\n",
        "    results = []\n",
        "    nextPageToken = None\n",
        "    while True:\n",
        "        if apiCallCount >= queryLimit:\n",
        "            break\n",
        "        #defining parameters, initiating the api call counter and collecting the results.\n",
        "        params = {\"query\": f\"Texas Roadhouse in {state}\", \"key\": apiKey}\n",
        "        if nextPageToken:\n",
        "            params[\"pagetoken\"] = nextPageToken\n",
        "\n",
        "        try:\n",
        "            response = requests.get(baseURL, params=params)\n",
        "            response.raise_for_status()\n",
        "            data = response.json()\n",
        "            apiCallCount += 1\n",
        "            results.extend(data.get(\"results\", []))\n",
        "            nextPageToken = data.get(\"nextPageToken\", None)\n",
        "            if not nextPageToken:\n",
        "                break\n",
        "            time.sleep(2)\n",
        "        except requests.exceptions.RequestException:\n",
        "            break\n",
        "    return results\n",
        "#defining a function to save restaurant data to a csv file.\n",
        "def saveToCSV(filename, data):\n",
        "    with open(filename, mode=\"w\", newline=\"\", encoding=\"utf-8\") as file:\n",
        "        writer = csv.writer(file)\n",
        "        # Write header\n",
        "        writer.writerow([\"name\", \"address\", \"state\", \"rating\", \"totalUserRatings\", \"placeID\", \"latitude\", \"longitude\"])\n",
        "        # Write each business\n",
        "        for item in data:\n",
        "            name = item.get(\"name\", \"N/A\")\n",
        "            address = item.get(\"formatted_address\", \"N/A\")\n",
        "            state = item.get(\"formatted_address\", \"\").split(\",\")[-2].strip() if \",\" in item.get(\"formatted_address\", \"\") else \"N/A\"\n",
        "            rating = item.get(\"rating\", \"N/A\")\n",
        "            totalUserRatings = item.get(\"user_ratings_total\", \"N/A\")\n",
        "            placeID = item.get(\"place_id\", \"N/A\")\n",
        "            latitude = item.get(\"geometry\", {}).get(\"location\", {}).get(\"lat\", \"N/A\")\n",
        "            longitude = item.get(\"geometry\", {}).get(\"location\", {}).get(\"lng\", \"N/A\")\n",
        "            writer.writerow([name, address, state, rating, totalUserRatings, placeID, latitude, longitude])\n",
        "#defining a function to fetch and save data to a csv named texasRoadhouseLocations.\n",
        "def fetchAndSave():\n",
        "    global apiCallCount\n",
        "    allResults = []\n",
        "    for state in states:\n",
        "        if apiCallCount >= queryLimit:\n",
        "            break\n",
        "        stateResults = getLocations(state)\n",
        "        allResults.extend(stateResults)\n",
        "    filename = \"texasRoadhouseLocations.csv\"\n",
        "    saveToCSV(filename, allResults)\n",
        "if __name__ == \"__main__\":\n",
        "    fetchAndSave()"
      ],
      "metadata": {
        "id": "gCq2IsB21Zzv"
      },
      "execution_count": 4,
      "outputs": []
    }
  ]
}